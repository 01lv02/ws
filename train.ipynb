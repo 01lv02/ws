{
 "cells": [
  {
   "cell_type": "code",
   "execution_count": 2,
   "id": "abc9045a-55ea-49e0-a731-5b3f1c82e89c",
   "metadata": {
    "pycharm": {
     "name": "#%%\n"
    }
   },
   "outputs": [],
   "source": [
    "import os\n",
    "import numpy as np\n",
    "from tqdm import tqdm\n",
    "import tensorflow as tf\n",
    "from model import NeuralStyleTransferModel\n",
    "import settings\n",
    "import utils"
   ]
  },
  {
   "cell_type": "code",
   "execution_count": 3,
   "id": "c0e0f461-2cb4-4b5b-8a74-de7184182f1d",
   "metadata": {
    "pycharm": {
     "name": "#%%\n"
    }
   },
   "outputs": [],
   "source": [
    "# 创建模型\n",
    "model = NeuralStyleTransferModel()\n",
    "\n",
    "# 加载内容图片\n",
    "content_image = utils.load_images(settings.CONTENT_IMAGE_PATH)\n",
    "# 风格图片\n",
    "style_image = utils.load_images(settings.STYLE_IMAGE_PATH)\n",
    "\n",
    "# 计算出目标内容图片的内容特征备用\n",
    "target_content_features = model([content_image, ])['content']\n",
    "# 计算目标风格图片的风格特征\n",
    "target_style_features = model([style_image, ])['style']\n",
    "\n",
    "M = settings.WIDTH * settings.HEIGHT\n",
    "N = 3\n",
    "\n",
    "\n",
    "def _compute_content_loss(noise_features, target_features):\n",
    "    \"\"\"\n",
    "    计算指定层上两个特征之间的内容loss\n",
    "    :param noise_features: 噪声图片在指定层的特征\n",
    "    :param target_features: 内容图片在指定层的特征\n",
    "    \"\"\"\n",
    "    content_loss = tf.reduce_sum(tf.square(noise_features - target_features))\n",
    "    # 计算系数\n",
    "    x = 2. * M * N\n",
    "    content_loss = content_loss / x\n",
    "    return content_loss\n",
    "\n",
    "\n",
    "def compute_content_loss(noise_content_features):\n",
    "    \"\"\"\n",
    "    计算并当前图片的内容loss\n",
    "    :param noise_content_features: 噪声图片的内容特征\n",
    "    \"\"\"\n",
    "    # 初始化内容损失\n",
    "    content_losses = []\n",
    "    # 加权计算内容损失\n",
    "    for (noise_feature, factor), (target_feature, _) in zip(noise_content_features, target_content_features):\n",
    "        layer_content_loss = _compute_content_loss(noise_feature, target_feature)\n",
    "        content_losses.append(layer_content_loss * factor)\n",
    "    return tf.reduce_sum(content_losses)\n",
    "\n",
    "\n",
    "def gram_matrix(feature):\n",
    "    \"\"\"\n",
    "    计算给定特征的格拉姆矩阵\n",
    "    \"\"\"\n",
    "    # 先交换维度，把channel维度提到最前面\n",
    "    x = tf.transpose(feature, perm=[2, 0, 1])\n",
    "    # reshape，压缩成2d\n",
    "    x = tf.reshape(x, (x.shape[0], -1))\n",
    "    # 计算x和x的逆的乘积\n",
    "    return x @ tf.transpose(x)\n",
    "\n",
    "\n",
    "def _compute_style_loss(noise_feature, target_feature):\n",
    "    \"\"\"\n",
    "    计算指定层上两个特征之间的风格loss\n",
    "    :param noise_feature: 噪声图片在指定层的特征\n",
    "    :param target_feature: 风格图片在指定层的特征\n",
    "    \"\"\"\n",
    "    noise_gram_matrix = gram_matrix(noise_feature)\n",
    "    style_gram_matrix = gram_matrix(target_feature)\n",
    "    style_loss = tf.reduce_sum(tf.square(noise_gram_matrix - style_gram_matrix))\n",
    "    # 计算系数\n",
    "    x = 4. * (M ** 2) * (N ** 2)\n",
    "    return style_loss / x\n",
    "\n",
    "\n",
    "def compute_style_loss(noise_style_features):\n",
    "    \"\"\"\n",
    "    计算并返回图片的风格loss\n",
    "    :param noise_style_features: 噪声图片的风格特征\n",
    "    \"\"\"\n",
    "    style_losses = []\n",
    "    for (noise_feature, factor), (target_feature, _) in zip(noise_style_features, target_style_features):\n",
    "        layer_style_loss = _compute_style_loss(noise_feature, target_feature)\n",
    "        style_losses.append(layer_style_loss * factor)\n",
    "    return tf.reduce_sum(style_losses)\n",
    "\n",
    "\n",
    "def total_loss(noise_features):\n",
    "    \"\"\"\n",
    "    计算总损失\n",
    "    :param noise_features: 噪声图片特征数据\n",
    "    \"\"\"\n",
    "    content_loss = compute_content_loss(noise_features['content'])\n",
    "    style_loss = compute_style_loss(noise_features['style'])\n",
    "    return content_loss * settings.CONTENT_LOSS_FACTOR + style_loss * settings.STYLE_LOSS_FACTOR\n",
    "\n",
    "\n",
    "# 使用Adma优化器\n",
    "optimizer = tf.keras.optimizers.Adam(settings.LEARNING_RATE)\n",
    "\n",
    "# 基于内容图片随机生成一张噪声图片\n",
    "noise_image = tf.Variable((content_image + np.random.uniform(-0.2, 0.2, (1, settings.HEIGHT, settings.WIDTH, 3))) / 2)\n",
    "\n",
    "\n",
    "# 使用tf.function加速训练\n",
    "@tf.function\n",
    "def train_one_step():\n",
    "    \"\"\"\n",
    "    一次迭代过程\n",
    "    \"\"\"\n",
    "    # 求loss\n",
    "    with tf.GradientTape() as tape:\n",
    "        noise_outputs = model(noise_image)\n",
    "        loss = total_loss(noise_outputs)\n",
    "    # 求梯度\n",
    "    grad = tape.gradient(loss, noise_image)\n",
    "    # 梯度下降，更新噪声图片\n",
    "    optimizer.apply_gradients([(grad, noise_image)])\n",
    "    return loss"
   ]
  },
  {
   "cell_type": "code",
   "execution_count": 4,
   "id": "3f6dfbbf-57f3-462e-a4b8-d256dbc7de9a",
   "metadata": {
    "pycharm": {
     "name": "#%%\n"
    }
   },
   "outputs": [
    {
     "name": "stderr",
     "output_type": "stream",
     "text": [
      "Epoch 1/20: 100%|███████████████████████████████████████████████████| 100/100 [00:09<00:00, 10.39it/s, loss=69531.9531]\n",
      "Epoch 2/20: 100%|███████████████████████████████████████████████████| 100/100 [00:04<00:00, 24.12it/s, loss=38297.3555]\n",
      "Epoch 3/20: 100%|███████████████████████████████████████████████████| 100/100 [00:04<00:00, 23.67it/s, loss=26490.4336]\n",
      "Epoch 4/20: 100%|███████████████████████████████████████████████████| 100/100 [00:04<00:00, 23.75it/s, loss=20096.0625]\n",
      "Epoch 5/20: 100%|███████████████████████████████████████████████████| 100/100 [00:04<00:00, 23.48it/s, loss=16134.8457]\n",
      "Epoch 6/20: 100%|███████████████████████████████████████████████████| 100/100 [00:04<00:00, 23.69it/s, loss=13497.5645]\n",
      "Epoch 7/20: 100%|███████████████████████████████████████████████████| 100/100 [00:04<00:00, 23.75it/s, loss=11625.2617]\n",
      "Epoch 8/20: 100%|███████████████████████████████████████████████████| 100/100 [00:04<00:00, 23.95it/s, loss=10213.0479]\n",
      "Epoch 9/20: 100%|████████████████████████████████████████████████████| 100/100 [00:04<00:00, 23.79it/s, loss=9117.3936]\n",
      "Epoch 10/20: 100%|███████████████████████████████████████████████████| 100/100 [00:04<00:00, 23.72it/s, loss=8241.6807]\n",
      "Epoch 11/20: 100%|███████████████████████████████████████████████████| 100/100 [00:04<00:00, 24.03it/s, loss=7524.9263]\n",
      "Epoch 12/20: 100%|███████████████████████████████████████████████████| 100/100 [00:04<00:00, 22.92it/s, loss=6921.2129]\n",
      "Epoch 13/20: 100%|███████████████████████████████████████████████████| 100/100 [00:04<00:00, 22.96it/s, loss=6405.4053]\n",
      "Epoch 14/20: 100%|███████████████████████████████████████████████████| 100/100 [00:04<00:00, 23.09it/s, loss=5962.7500]\n",
      "Epoch 15/20: 100%|███████████████████████████████████████████████████| 100/100 [00:04<00:00, 23.36it/s, loss=5608.3511]\n",
      "Epoch 16/20: 100%|███████████████████████████████████████████████████| 100/100 [00:04<00:00, 23.28it/s, loss=5280.9795]\n",
      "Epoch 17/20: 100%|███████████████████████████████████████████████████| 100/100 [00:04<00:00, 23.46it/s, loss=4984.7285]\n",
      "Epoch 18/20: 100%|███████████████████████████████████████████████████| 100/100 [00:04<00:00, 23.82it/s, loss=4699.3940]\n",
      "Epoch 19/20: 100%|███████████████████████████████████████████████████| 100/100 [00:04<00:00, 23.67it/s, loss=4485.5918]\n",
      "Epoch 20/20: 100%|███████████████████████████████████████████████████| 100/100 [00:04<00:00, 23.86it/s, loss=4444.8545]\n"
     ]
    }
   ],
   "source": [
    "# 创建保存生成图片的文件夹\n",
    "if not os.path.exists(settings.OUTPUT_DIR):\n",
    "    os.mkdir(settings.OUTPUT_DIR)\n",
    "\n",
    "# 共训练settings.EPOCHS个epochs\n",
    "for epoch in range(settings.EPOCHS):\n",
    "    # 使用tqdm提示训练进度\n",
    "    with tqdm(total=settings.STEPS_PER_EPOCH, desc='Epoch {}/{}'.format(epoch + 1, settings.EPOCHS)) as pbar:\n",
    "        # 每个epoch训练settings.STEPS_PER_EPOCH次\n",
    "        for step in range(settings.STEPS_PER_EPOCH):\n",
    "            _loss = train_one_step()\n",
    "            pbar.set_postfix({'loss': '%.4f' % float(_loss)})\n",
    "            pbar.update(1)\n",
    "        # 每个epoch保存一次图片\n",
    "        utils.save_image(noise_image, '{}/{}.jpg'.format(settings.OUTPUT_DIR, epoch + 1))"
   ]
  },
  {
   "cell_type": "code",
   "execution_count": null,
   "id": "1a44d1e1-03af-4dfb-8678-0e9fa241dd68",
   "metadata": {
    "pycharm": {
     "name": "#%%\n"
    }
   },
   "outputs": [],
   "source": []
  },
  {
   "cell_type": "code",
   "execution_count": null,
   "id": "1db1ac9a-ce3e-4bfb-ae94-4b713ab3f4a0",
   "metadata": {
    "pycharm": {
     "name": "#%%\n"
    }
   },
   "outputs": [],
   "source": []
  }
 ],
 "metadata": {
  "kernelspec": {
   "display_name": "tf2.7",
   "language": "python",
   "name": "tf2.7"
  },
  "language_info": {
   "codemirror_mode": {
    "name": "ipython",
    "version": 3
   },
   "file_extension": ".py",
   "mimetype": "text/x-python",
   "name": "python",
   "nbconvert_exporter": "python",
   "pygments_lexer": "ipython3",
   "version": "3.9.12"
  }
 },
 "nbformat": 4,
 "nbformat_minor": 5
}